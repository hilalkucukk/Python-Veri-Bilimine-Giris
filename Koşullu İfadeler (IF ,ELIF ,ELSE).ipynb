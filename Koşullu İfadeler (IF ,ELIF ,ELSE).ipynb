{
 "cells": [
  {
   "cell_type": "code",
   "execution_count": 1,
   "metadata": {},
   "outputs": [],
   "source": [
    "n=30"
   ]
  },
  {
   "cell_type": "code",
   "execution_count": 2,
   "metadata": {},
   "outputs": [
    {
     "data": {
      "text/plain": [
       "True"
      ]
     },
     "execution_count": 2,
     "metadata": {},
     "output_type": "execute_result"
    }
   ],
   "source": [
    "n>10"
   ]
  },
  {
   "cell_type": "code",
   "execution_count": 7,
   "metadata": {},
   "outputs": [
    {
     "name": "stdout",
     "output_type": "stream",
     "text": [
      "10dan büyük\n"
     ]
    }
   ],
   "source": [
    "if n > 10:\n",
    "    print(\"10dan büyük\")\n",
    "else:\n",
    "    print(\"10dan küçük\")"
   ]
  },
  {
   "cell_type": "code",
   "execution_count": 17,
   "metadata": {},
   "outputs": [
    {
     "name": "stdout",
     "output_type": "stream",
     "text": [
      "Bir sayı giriniz=5\n",
      "Sayi 5'tir\n"
     ]
    }
   ],
   "source": [
    "sayi = int(input(\"Bir sayı giriniz=\"))\n",
    "if sayi > 5 :\n",
    "    print(\"5'ten büyük.\")\n",
    "elif sayi == 5 :\n",
    "    print(\"Sayi 5'tir\")\n",
    "else :\n",
    "    print(\"5'ten küçük.\")"
   ]
  },
  {
   "cell_type": "code",
   "execution_count": 20,
   "metadata": {},
   "outputs": [
    {
     "name": "stdout",
     "output_type": "stream",
     "text": [
      "parola=1234\n",
      "HOŞGELDİNİZ.\n"
     ]
    }
   ],
   "source": [
    "parola = input(\"parola=\")\n",
    "if parola == \"1234\":\n",
    "    print(\"HOŞGELDİNİZ.\")\n",
    "else :\n",
    "    print(\"TEKRAR DENEYİNİZ.\")"
   ]
  },
  {
   "cell_type": "code",
   "execution_count": 24,
   "metadata": {},
   "outputs": [
    {
     "name": "stdout",
     "output_type": "stream",
     "text": [
      "Notunuzu giriniz = 33\n",
      "Kaldınız\n"
     ]
    }
   ],
   "source": [
    "x = int(input(\"Notunuzu giriniz = \"))\n",
    "if x > 100 or x<0 :\n",
    "    print(\"Yanlış girdiniz\")\n",
    "elif x > 90 and x <= 100 :\n",
    "    print(\"AA aldınız\")\n",
    "elif x > 80 and x <=90 :\n",
    "    print(\"BB aldınız\")\n",
    "elif x >= 0 and x <=80 :\n",
    "    print(\"Kaldınız\")"
   ]
  },
  {
   "cell_type": "code",
   "execution_count": 25,
   "metadata": {},
   "outputs": [
    {
     "data": {
      "text/plain": [
       "True"
      ]
     },
     "execution_count": 25,
     "metadata": {},
     "output_type": "execute_result"
    }
   ],
   "source": [
    "x=3\n",
    "y=4\n",
    "x == 3 and y == 4"
   ]
  },
  {
   "cell_type": "code",
   "execution_count": 26,
   "metadata": {},
   "outputs": [
    {
     "data": {
      "text/plain": [
       "False"
      ]
     },
     "execution_count": 26,
     "metadata": {},
     "output_type": "execute_result"
    }
   ],
   "source": [
    "x=3\n",
    "y=5\n",
    "x == 3 and y == 4"
   ]
  },
  {
   "cell_type": "code",
   "execution_count": 27,
   "metadata": {},
   "outputs": [
    {
     "data": {
      "text/plain": [
       "False"
      ]
     },
     "execution_count": 27,
     "metadata": {},
     "output_type": "execute_result"
    }
   ],
   "source": [
    "not x"
   ]
  },
  {
   "cell_type": "code",
   "execution_count": 33,
   "metadata": {},
   "outputs": [
    {
     "name": "stdout",
     "output_type": "stream",
     "text": [
      "parola=\n",
      "parola girmediniz!\n"
     ]
    }
   ],
   "source": [
    "parola = input(\"parola=\")\n",
    "if not parola :\n",
    "    print(\"parola girmediniz!\")"
   ]
  },
  {
   "cell_type": "code",
   "execution_count": null,
   "metadata": {},
   "outputs": [],
   "source": []
  }
 ],
 "metadata": {
  "kernelspec": {
   "display_name": "Python 3",
   "language": "python",
   "name": "python3"
  },
  "language_info": {
   "codemirror_mode": {
    "name": "ipython",
    "version": 3
   },
   "file_extension": ".py",
   "mimetype": "text/x-python",
   "name": "python",
   "nbconvert_exporter": "python",
   "pygments_lexer": "ipython3",
   "version": "3.6.5"
  }
 },
 "nbformat": 4,
 "nbformat_minor": 2
}
