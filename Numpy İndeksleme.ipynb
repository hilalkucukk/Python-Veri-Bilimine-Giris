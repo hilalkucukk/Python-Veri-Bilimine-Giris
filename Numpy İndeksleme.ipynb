{
 "cells": [
  {
   "cell_type": "code",
   "execution_count": 1,
   "metadata": {},
   "outputs": [],
   "source": [
    "import numpy as np"
   ]
  },
  {
   "cell_type": "code",
   "execution_count": 4,
   "metadata": {},
   "outputs": [
    {
     "data": {
      "text/plain": [
       "array([0, 1, 2, 3, 4, 5, 6, 7, 8, 9])"
      ]
     },
     "execution_count": 4,
     "metadata": {},
     "output_type": "execute_result"
    }
   ],
   "source": [
    "a=np.arange(10)\n",
    "a"
   ]
  },
  {
   "cell_type": "code",
   "execution_count": 6,
   "metadata": {},
   "outputs": [
    {
     "data": {
      "text/plain": [
       "3"
      ]
     },
     "execution_count": 6,
     "metadata": {},
     "output_type": "execute_result"
    }
   ],
   "source": [
    "a[3]"
   ]
  },
  {
   "cell_type": "code",
   "execution_count": 7,
   "metadata": {},
   "outputs": [
    {
     "data": {
      "text/plain": [
       "array([0, 1, 2, 3, 4, 5, 6, 7, 8, 9])"
      ]
     },
     "execution_count": 7,
     "metadata": {},
     "output_type": "execute_result"
    }
   ],
   "source": [
    "a[3:6]\n",
    "a"
   ]
  },
  {
   "cell_type": "code",
   "execution_count": 10,
   "metadata": {},
   "outputs": [
    {
     "data": {
      "text/plain": [
       "array([   0,    1,    2,    3, 1000,    5,    6,    7,    8,    9])"
      ]
     },
     "execution_count": 10,
     "metadata": {},
     "output_type": "execute_result"
    }
   ],
   "source": [
    "a[4]=1000\n",
    "a"
   ]
  },
  {
   "cell_type": "code",
   "execution_count": 12,
   "metadata": {},
   "outputs": [
    {
     "name": "stdout",
     "output_type": "stream",
     "text": [
      "0\n",
      "2\n",
      "4\n",
      "6\n",
      "2000\n",
      "10\n",
      "12\n",
      "14\n",
      "16\n",
      "18\n"
     ]
    }
   ],
   "source": [
    "for i in a:\n",
    "    print(i*2)"
   ]
  },
  {
   "cell_type": "code",
   "execution_count": 13,
   "metadata": {},
   "outputs": [
    {
     "data": {
      "text/plain": [
       "array([0.56509085, 0.11502588, 0.78836486, 0.9342789 , 0.55585443,\n",
       "       0.39491856, 0.09009002, 0.01456131, 0.60514706, 0.04085848,\n",
       "       0.50011374, 0.43171973, 0.7581108 , 0.70835198, 0.56711756,\n",
       "       0.52922572])"
      ]
     },
     "execution_count": 13,
     "metadata": {},
     "output_type": "execute_result"
    }
   ],
   "source": [
    "y=np.random.random(16)\n",
    "y"
   ]
  },
  {
   "cell_type": "code",
   "execution_count": 15,
   "metadata": {},
   "outputs": [
    {
     "data": {
      "text/plain": [
       "array([[0.56509085, 0.11502588, 0.78836486, 0.9342789 ],\n",
       "       [0.55585443, 0.39491856, 0.09009002, 0.01456131],\n",
       "       [0.60514706, 0.04085848, 0.50011374, 0.43171973],\n",
       "       [0.7581108 , 0.70835198, 0.56711756, 0.52922572]])"
      ]
     },
     "execution_count": 15,
     "metadata": {},
     "output_type": "execute_result"
    }
   ],
   "source": [
    "y=y.reshape(4,4)\n",
    "y"
   ]
  },
  {
   "cell_type": "code",
   "execution_count": 16,
   "metadata": {},
   "outputs": [
    {
     "data": {
      "text/plain": [
       "array([0.56509085, 0.11502588, 0.78836486, 0.9342789 , 0.55585443,\n",
       "       0.39491856, 0.09009002, 0.01456131, 0.60514706, 0.04085848,\n",
       "       0.50011374, 0.43171973, 0.7581108 , 0.70835198, 0.56711756,\n",
       "       0.52922572])"
      ]
     },
     "execution_count": 16,
     "metadata": {},
     "output_type": "execute_result"
    }
   ],
   "source": [
    "y.ravel()"
   ]
  },
  {
   "cell_type": "code",
   "execution_count": 17,
   "metadata": {},
   "outputs": [
    {
     "data": {
      "text/plain": [
       "array([0.11502588, 0.39491856])"
      ]
     },
     "execution_count": 17,
     "metadata": {},
     "output_type": "execute_result"
    }
   ],
   "source": [
    "y[0:2,1]"
   ]
  },
  {
   "cell_type": "code",
   "execution_count": 18,
   "metadata": {},
   "outputs": [
    {
     "data": {
      "text/plain": [
       "array([0.9342789 , 0.01456131, 0.43171973, 0.52922572])"
      ]
     },
     "execution_count": 18,
     "metadata": {},
     "output_type": "execute_result"
    }
   ],
   "source": [
    "y[:,3]"
   ]
  },
  {
   "cell_type": "code",
   "execution_count": 19,
   "metadata": {},
   "outputs": [
    {
     "name": "stdout",
     "output_type": "stream",
     "text": [
      "[0.56509085 0.11502588 0.78836486 0.9342789 ]\n",
      "[0.55585443 0.39491856 0.09009002 0.01456131]\n",
      "[0.60514706 0.04085848 0.50011374 0.43171973]\n",
      "[0.7581108  0.70835198 0.56711756 0.52922572]\n"
     ]
    }
   ],
   "source": [
    "for satır in y:\n",
    "    print(satır)"
   ]
  },
  {
   "cell_type": "code",
   "execution_count": 20,
   "metadata": {},
   "outputs": [
    {
     "name": "stdout",
     "output_type": "stream",
     "text": [
      "0.5650908510527393\n",
      "0.11502587949416132\n",
      "0.7883648636020552\n",
      "0.9342789024522118\n",
      "0.5558544253246368\n",
      "0.3949185580978758\n",
      "0.09009001524247617\n",
      "0.014561308236299642\n",
      "0.6051470555442827\n",
      "0.04085848111627022\n",
      "0.5001137424477587\n",
      "0.43171972585511253\n",
      "0.7581107978551613\n",
      "0.7083519780794206\n",
      "0.5671175646935619\n",
      "0.5292257205782513\n"
     ]
    }
   ],
   "source": [
    "for satır in y.flat:\n",
    "    print(satır)"
   ]
  },
  {
   "cell_type": "code",
   "execution_count": 21,
   "metadata": {},
   "outputs": [
    {
     "name": "stdout",
     "output_type": "stream",
     "text": [
      "((0, 0), 0.5650908510527393)\n",
      "((0, 1), 0.11502587949416132)\n",
      "((0, 2), 0.7883648636020552)\n",
      "((0, 3), 0.9342789024522118)\n",
      "((1, 0), 0.5558544253246368)\n",
      "((1, 1), 0.3949185580978758)\n",
      "((1, 2), 0.09009001524247617)\n",
      "((1, 3), 0.014561308236299642)\n",
      "((2, 0), 0.6051470555442827)\n",
      "((2, 1), 0.04085848111627022)\n",
      "((2, 2), 0.5001137424477587)\n",
      "((2, 3), 0.43171972585511253)\n",
      "((3, 0), 0.7581107978551613)\n",
      "((3, 1), 0.7083519780794206)\n",
      "((3, 2), 0.5671175646935619)\n",
      "((3, 3), 0.5292257205782513)\n"
     ]
    }
   ],
   "source": [
    "for satır in np.ndenumerate(y):\n",
    "    print(satır)"
   ]
  },
  {
   "cell_type": "code",
   "execution_count": 22,
   "metadata": {},
   "outputs": [],
   "source": [
    "a=np.array([2,3])\n",
    "b=np.array([5,6])"
   ]
  },
  {
   "cell_type": "code",
   "execution_count": 23,
   "metadata": {},
   "outputs": [
    {
     "data": {
      "text/plain": [
       "array([2, 3, 5, 6])"
      ]
     },
     "execution_count": 23,
     "metadata": {},
     "output_type": "execute_result"
    }
   ],
   "source": [
    "np.hstack([a,b])"
   ]
  },
  {
   "cell_type": "code",
   "execution_count": 24,
   "metadata": {},
   "outputs": [
    {
     "data": {
      "text/plain": [
       "array([[2, 3],\n",
       "       [5, 6]])"
      ]
     },
     "execution_count": 24,
     "metadata": {},
     "output_type": "execute_result"
    }
   ],
   "source": [
    "np.vstack([a,b])"
   ]
  },
  {
   "cell_type": "code",
   "execution_count": 25,
   "metadata": {},
   "outputs": [
    {
     "data": {
      "text/plain": [
       "array([[1, 2],\n",
       "       [3, 4],\n",
       "       [5, 6]])"
      ]
     },
     "execution_count": 25,
     "metadata": {},
     "output_type": "execute_result"
    }
   ],
   "source": [
    "a=np.array([[1,2],[3,4]])\n",
    "b=np.array([[5,6]])\n",
    "np.concatenate([a,b],axis=0)"
   ]
  },
  {
   "cell_type": "code",
   "execution_count": 27,
   "metadata": {},
   "outputs": [
    {
     "data": {
      "text/plain": [
       "array([[1, 2, 5],\n",
       "       [3, 4, 6]])"
      ]
     },
     "execution_count": 27,
     "metadata": {},
     "output_type": "execute_result"
    }
   ],
   "source": [
    "np.concatenate([a,b.T],axis=1)"
   ]
  }
 ],
 "metadata": {
  "kernelspec": {
   "display_name": "Python 3",
   "language": "python",
   "name": "python3"
  },
  "language_info": {
   "codemirror_mode": {
    "name": "ipython",
    "version": 3
   },
   "file_extension": ".py",
   "mimetype": "text/x-python",
   "name": "python",
   "nbconvert_exporter": "python",
   "pygments_lexer": "ipython3",
   "version": "3.6.5"
  }
 },
 "nbformat": 4,
 "nbformat_minor": 2
}
