{
 "cells": [
  {
   "cell_type": "code",
   "execution_count": 2,
   "metadata": {},
   "outputs": [],
   "source": [
    "import pandas as pd"
   ]
  },
  {
   "cell_type": "code",
   "execution_count": 3,
   "metadata": {},
   "outputs": [],
   "source": [
    "ülke=pd.read_csv(\"ulke.csv\",squeeze=True)\n",
    "gelir=pd.read_csv(\"milligelir.csv\",squeeze=True)"
   ]
  },
  {
   "cell_type": "code",
   "execution_count": 4,
   "metadata": {},
   "outputs": [
    {
     "data": {
      "text/plain": [
       "0                 ABD\n",
       "3             Almanya\n",
       "13        Avusturalya\n",
       "8            Brezilya\n",
       "15          Endonezya\n",
       "5              Fransa\n",
       "11         GÜney Kore\n",
       "6           Hindistan\n",
       "16           Hollanda\n",
       "2             Japonya\n",
       "9              Kanada\n",
       "14            Meksika\n",
       "10              Rusya\n",
       "18    Suudi Arabistan\n",
       "17            Türkiye\n",
       "1                 Çin\n",
       "4           İngiltere\n",
       "12            İspanya\n",
       "19            İsviçre\n",
       "7              İtalya\n",
       "Name: Ülke, dtype: object"
      ]
     },
     "execution_count": 4,
     "metadata": {},
     "output_type": "execute_result"
    }
   ],
   "source": [
    "ülke.sort_values()"
   ]
  },
  {
   "cell_type": "code",
   "execution_count": 9,
   "metadata": {},
   "outputs": [
    {
     "data": {
      "text/plain": [
       "0             ABD\n",
       "3         Almanya\n",
       "13    Avusturalya\n",
       "8        Brezilya\n",
       "15      Endonezya\n",
       "Name: Ülke, dtype: object"
      ]
     },
     "execution_count": 9,
     "metadata": {},
     "output_type": "execute_result"
    }
   ],
   "source": [
    "ülke.sort_values().head()"
   ]
  },
  {
   "cell_type": "code",
   "execution_count": 11,
   "metadata": {},
   "outputs": [
    {
     "data": {
      "text/plain": [
       "15    1070000\n",
       "16     945000\n",
       "17     910000\n",
       "18     748000\n",
       "19     741000\n",
       "Name: Milli Gelir, dtype: int64"
      ]
     },
     "execution_count": 11,
     "metadata": {},
     "output_type": "execute_result"
    }
   ],
   "source": [
    "gelir.sort_values(ascending=False).tail()"
   ]
  },
  {
   "cell_type": "code",
   "execution_count": 14,
   "metadata": {},
   "outputs": [
    {
     "data": {
      "text/plain": [
       "19      741000\n",
       "18      748000\n",
       "17      910000\n",
       "16      945000\n",
       "15     1070000\n",
       "14     1210000\n",
       "13     1500000\n",
       "12     1510000\n",
       "11     1690000\n",
       "10     1720000\n",
       "9      1800000\n",
       "8      2140000\n",
       "7      2180000\n",
       "6      2850000\n",
       "5      2930000\n",
       "4      2940000\n",
       "3      4210000\n",
       "2      5170000\n",
       "1     14090000\n",
       "0     20410000\n",
       "Name: Milli Gelir, dtype: int64"
      ]
     },
     "execution_count": 14,
     "metadata": {},
     "output_type": "execute_result"
    }
   ],
   "source": [
    "gelir.sort_values(ascending=True,inplace=True)\n",
    "gelir"
   ]
  },
  {
   "cell_type": "code",
   "execution_count": 15,
   "metadata": {},
   "outputs": [
    {
     "data": {
      "text/plain": [
       "0     20410000\n",
       "1     14090000\n",
       "2      5170000\n",
       "3      4210000\n",
       "4      2940000\n",
       "5      2930000\n",
       "6      2850000\n",
       "7      2180000\n",
       "8      2140000\n",
       "9      1800000\n",
       "10     1720000\n",
       "11     1690000\n",
       "12     1510000\n",
       "13     1500000\n",
       "14     1210000\n",
       "15     1070000\n",
       "16      945000\n",
       "17      910000\n",
       "18      748000\n",
       "19      741000\n",
       "Name: Milli Gelir, dtype: int64"
      ]
     },
     "execution_count": 15,
     "metadata": {},
     "output_type": "execute_result"
    }
   ],
   "source": [
    "gelir.sort_index()"
   ]
  },
  {
   "cell_type": "code",
   "execution_count": 18,
   "metadata": {},
   "outputs": [
    {
     "data": {
      "text/plain": [
       "True"
      ]
     },
     "execution_count": 18,
     "metadata": {},
     "output_type": "execute_result"
    }
   ],
   "source": [
    "1 in [1,2,3,4]"
   ]
  },
  {
   "cell_type": "code",
   "execution_count": 19,
   "metadata": {},
   "outputs": [
    {
     "data": {
      "text/plain": [
       "False"
      ]
     },
     "execution_count": 19,
     "metadata": {},
     "output_type": "execute_result"
    }
   ],
   "source": [
    "\"ABD\" in ülke"
   ]
  },
  {
   "cell_type": "code",
   "execution_count": 20,
   "metadata": {},
   "outputs": [
    {
     "data": {
      "text/plain": [
       "True"
      ]
     },
     "execution_count": 20,
     "metadata": {},
     "output_type": "execute_result"
    }
   ],
   "source": [
    "\"ABD\" in ülke.values"
   ]
  },
  {
   "cell_type": "code",
   "execution_count": null,
   "metadata": {},
   "outputs": [],
   "source": []
  }
 ],
 "metadata": {
  "kernelspec": {
   "display_name": "Python 3",
   "language": "python",
   "name": "python3"
  },
  "language_info": {
   "codemirror_mode": {
    "name": "ipython",
    "version": 3
   },
   "file_extension": ".py",
   "mimetype": "text/x-python",
   "name": "python",
   "nbconvert_exporter": "python",
   "pygments_lexer": "ipython3",
   "version": "3.7.3"
  }
 },
 "nbformat": 4,
 "nbformat_minor": 2
}
