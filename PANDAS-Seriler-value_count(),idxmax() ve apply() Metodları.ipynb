{
 "cells": [
  {
   "cell_type": "code",
   "execution_count": 1,
   "metadata": {},
   "outputs": [],
   "source": [
    "import pandas as pd"
   ]
  },
  {
   "cell_type": "code",
   "execution_count": 4,
   "metadata": {},
   "outputs": [],
   "source": [
    "kıta=pd.read_csv(\"kıta.csv\",squeeze=True)"
   ]
  },
  {
   "cell_type": "code",
   "execution_count": 5,
   "metadata": {},
   "outputs": [
    {
     "data": {
      "text/plain": [
       "Avrupa           8\n",
       "Asya             7\n",
       "Kuzey Amerika    3\n",
       "Okyanusya        1\n",
       "Güney Amerika    1\n",
       "Name: KITA, dtype: int64"
      ]
     },
     "execution_count": 5,
     "metadata": {},
     "output_type": "execute_result"
    }
   ],
   "source": [
    "kıta.value_counts()"
   ]
  },
  {
   "cell_type": "code",
   "execution_count": 6,
   "metadata": {},
   "outputs": [
    {
     "data": {
      "text/plain": [
       "Güney Amerika    1\n",
       "Okyanusya        1\n",
       "Kuzey Amerika    3\n",
       "Asya             7\n",
       "Avrupa           8\n",
       "Name: KITA, dtype: int64"
      ]
     },
     "execution_count": 6,
     "metadata": {},
     "output_type": "execute_result"
    }
   ],
   "source": [
    "kıta.value_counts(ascending=True)"
   ]
  },
  {
   "cell_type": "code",
   "execution_count": 8,
   "metadata": {},
   "outputs": [],
   "source": [
    "milli=pd.read_csv(\"milligelir.csv\",squeeze=True)"
   ]
  },
  {
   "cell_type": "code",
   "execution_count": 9,
   "metadata": {},
   "outputs": [
    {
     "data": {
      "text/plain": [
       "0"
      ]
     },
     "execution_count": 9,
     "metadata": {},
     "output_type": "execute_result"
    }
   ],
   "source": [
    "milli.idxmax()"
   ]
  },
  {
   "cell_type": "code",
   "execution_count": 10,
   "metadata": {},
   "outputs": [
    {
     "data": {
      "text/plain": [
       "20410000"
      ]
     },
     "execution_count": 10,
     "metadata": {},
     "output_type": "execute_result"
    }
   ],
   "source": [
    "milli[0]"
   ]
  },
  {
   "cell_type": "code",
   "execution_count": 11,
   "metadata": {},
   "outputs": [
    {
     "data": {
      "text/plain": [
       "19"
      ]
     },
     "execution_count": 11,
     "metadata": {},
     "output_type": "execute_result"
    }
   ],
   "source": [
    "milli.idxmin()"
   ]
  },
  {
   "cell_type": "code",
   "execution_count": 12,
   "metadata": {},
   "outputs": [
    {
     "data": {
      "text/plain": [
       "741000"
      ]
     },
     "execution_count": 12,
     "metadata": {},
     "output_type": "execute_result"
    }
   ],
   "source": [
    "milli[19]"
   ]
  },
  {
   "cell_type": "code",
   "execution_count": 16,
   "metadata": {},
   "outputs": [],
   "source": [
    "def sınıf(gel):\n",
    "    if gel < 2000000:\n",
    "        return \"orta\"\n",
    "    elif gel >=2000000 and gel <=5000000:\n",
    "        return \"yüksek\"\n",
    "    else:\n",
    "        return \"çok yüksek\""
   ]
  },
  {
   "cell_type": "code",
   "execution_count": 17,
   "metadata": {},
   "outputs": [
    {
     "data": {
      "text/plain": [
       "0     çok yüksek\n",
       "1     çok yüksek\n",
       "2     çok yüksek\n",
       "3         yüksek\n",
       "4         yüksek\n",
       "5         yüksek\n",
       "6         yüksek\n",
       "7         yüksek\n",
       "8         yüksek\n",
       "9           orta\n",
       "10          orta\n",
       "11          orta\n",
       "12          orta\n",
       "13          orta\n",
       "14          orta\n",
       "15          orta\n",
       "16          orta\n",
       "17          orta\n",
       "18          orta\n",
       "19          orta\n",
       "Name: Milli Gelir, dtype: object"
      ]
     },
     "execution_count": 17,
     "metadata": {},
     "output_type": "execute_result"
    }
   ],
   "source": [
    "milli.apply(sınıf)"
   ]
  },
  {
   "cell_type": "code",
   "execution_count": 18,
   "metadata": {},
   "outputs": [
    {
     "data": {
      "text/plain": [
       "0     40820000\n",
       "1     28180000\n",
       "2     10340000\n",
       "3      8420000\n",
       "4      5880000\n",
       "5      5860000\n",
       "6      5700000\n",
       "7      4360000\n",
       "8      4280000\n",
       "9      3600000\n",
       "10     3440000\n",
       "11     3380000\n",
       "12     3020000\n",
       "13     3000000\n",
       "14     2420000\n",
       "15     2140000\n",
       "16     1890000\n",
       "17     1820000\n",
       "18     1496000\n",
       "19     1482000\n",
       "Name: Milli Gelir, dtype: int64"
      ]
     },
     "execution_count": 18,
     "metadata": {},
     "output_type": "execute_result"
    }
   ],
   "source": [
    "milli.apply(lambda milli:milli*2)"
   ]
  },
  {
   "cell_type": "code",
   "execution_count": null,
   "metadata": {},
   "outputs": [],
   "source": []
  }
 ],
 "metadata": {
  "kernelspec": {
   "display_name": "Python 3",
   "language": "python",
   "name": "python3"
  },
  "language_info": {
   "codemirror_mode": {
    "name": "ipython",
    "version": 3
   },
   "file_extension": ".py",
   "mimetype": "text/x-python",
   "name": "python",
   "nbconvert_exporter": "python",
   "pygments_lexer": "ipython3",
   "version": "3.7.3"
  }
 },
 "nbformat": 4,
 "nbformat_minor": 2
}
