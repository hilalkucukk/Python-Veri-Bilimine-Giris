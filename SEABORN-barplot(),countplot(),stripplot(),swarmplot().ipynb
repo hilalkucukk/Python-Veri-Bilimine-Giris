{
 "cells": [
  {
   "cell_type": "code",
   "execution_count": 1,
   "metadata": {},
   "outputs": [],
   "source": [
    "import numpy as np\n",
    "import pandas as pd\n",
    "import matplotlib as npl\n",
    "import matplotlib.pyplot as plt\n",
    "import seaborn as sns\n",
    "import warnings\n",
    "warnings.filterwarnings(\"ignore\")\n",
    "%matplotlib inline"
   ]
  },
  {
   "cell_type": "code",
   "execution_count": 2,
   "metadata": {
    "scrolled": true
   },
   "outputs": [
    {
     "data": {
      "text/html": [
       "<div>\n",
       "<style scoped>\n",
       "    .dataframe tbody tr th:only-of-type {\n",
       "        vertical-align: middle;\n",
       "    }\n",
       "\n",
       "    .dataframe tbody tr th {\n",
       "        vertical-align: top;\n",
       "    }\n",
       "\n",
       "    .dataframe thead th {\n",
       "        text-align: right;\n",
       "    }\n",
       "</style>\n",
       "<table border=\"1\" class=\"dataframe\">\n",
       "  <thead>\n",
       "    <tr style=\"text-align: right;\">\n",
       "      <th></th>\n",
       "      <th>ÜLKELER</th>\n",
       "      <th>MİLLİ GELİR</th>\n",
       "      <th>BÜYÜME</th>\n",
       "      <th>KİŞİ BAŞINA</th>\n",
       "      <th>KITA</th>\n",
       "    </tr>\n",
       "  </thead>\n",
       "  <tbody>\n",
       "    <tr>\n",
       "      <th>0</th>\n",
       "      <td>United States</td>\n",
       "      <td>20412.87</td>\n",
       "      <td>2.27</td>\n",
       "      <td>62152.0</td>\n",
       "      <td>North America</td>\n",
       "    </tr>\n",
       "    <tr>\n",
       "      <th>1</th>\n",
       "      <td>China</td>\n",
       "      <td>14092.51</td>\n",
       "      <td>6.86</td>\n",
       "      <td>10088.0</td>\n",
       "      <td>Asia</td>\n",
       "    </tr>\n",
       "    <tr>\n",
       "      <th>2</th>\n",
       "      <td>Japan</td>\n",
       "      <td>5167.05</td>\n",
       "      <td>1.71</td>\n",
       "      <td>40849.0</td>\n",
       "      <td>Asia</td>\n",
       "    </tr>\n",
       "    <tr>\n",
       "      <th>3</th>\n",
       "      <td>Germany</td>\n",
       "      <td>4211.64</td>\n",
       "      <td>2.51</td>\n",
       "      <td>50842.0</td>\n",
       "      <td>Europe</td>\n",
       "    </tr>\n",
       "    <tr>\n",
       "      <th>4</th>\n",
       "      <td>United Kingdom</td>\n",
       "      <td>2936.29</td>\n",
       "      <td>1.79</td>\n",
       "      <td>44177.0</td>\n",
       "      <td>Europe</td>\n",
       "    </tr>\n",
       "    <tr>\n",
       "      <th>5</th>\n",
       "      <td>France</td>\n",
       "      <td>2925.10</td>\n",
       "      <td>1.85</td>\n",
       "      <td>44934.0</td>\n",
       "      <td>Europe</td>\n",
       "    </tr>\n",
       "    <tr>\n",
       "      <th>6</th>\n",
       "      <td>India</td>\n",
       "      <td>2848.23</td>\n",
       "      <td>6.74</td>\n",
       "      <td>2135.0</td>\n",
       "      <td>Asia</td>\n",
       "    </tr>\n",
       "    <tr>\n",
       "      <th>7</th>\n",
       "      <td>Italy</td>\n",
       "      <td>2181.97</td>\n",
       "      <td>1.47</td>\n",
       "      <td>35914.0</td>\n",
       "      <td>Europe</td>\n",
       "    </tr>\n",
       "    <tr>\n",
       "      <th>8</th>\n",
       "      <td>Brazil</td>\n",
       "      <td>2138.92</td>\n",
       "      <td>0.98</td>\n",
       "      <td>10224.0</td>\n",
       "      <td>South America</td>\n",
       "    </tr>\n",
       "    <tr>\n",
       "      <th>9</th>\n",
       "      <td>Canada</td>\n",
       "      <td>1798.51</td>\n",
       "      <td>3.00</td>\n",
       "      <td>48466.0</td>\n",
       "      <td>North America</td>\n",
       "    </tr>\n",
       "    <tr>\n",
       "      <th>10</th>\n",
       "      <td>Russia</td>\n",
       "      <td>1719.90</td>\n",
       "      <td>1.55</td>\n",
       "      <td>11947.0</td>\n",
       "      <td>Europe</td>\n",
       "    </tr>\n",
       "    <tr>\n",
       "      <th>11</th>\n",
       "      <td>Korea</td>\n",
       "      <td>1693.25</td>\n",
       "      <td>3.09</td>\n",
       "      <td>32775.0</td>\n",
       "      <td>Asia</td>\n",
       "    </tr>\n",
       "    <tr>\n",
       "      <th>12</th>\n",
       "      <td>Spain</td>\n",
       "      <td>1506.44</td>\n",
       "      <td>3.05</td>\n",
       "      <td>32559.0</td>\n",
       "      <td>Europe</td>\n",
       "    </tr>\n",
       "    <tr>\n",
       "      <th>13</th>\n",
       "      <td>Australia</td>\n",
       "      <td>1500.26</td>\n",
       "      <td>2.27</td>\n",
       "      <td>59655.0</td>\n",
       "      <td>Oceania</td>\n",
       "    </tr>\n",
       "    <tr>\n",
       "      <th>14</th>\n",
       "      <td>Mexico</td>\n",
       "      <td>1212.83</td>\n",
       "      <td>2.04</td>\n",
       "      <td>9723.0</td>\n",
       "      <td>North America</td>\n",
       "    </tr>\n",
       "    <tr>\n",
       "      <th>15</th>\n",
       "      <td>Indonesia</td>\n",
       "      <td>1074.97</td>\n",
       "      <td>5.07</td>\n",
       "      <td>4052.0</td>\n",
       "      <td>Asia</td>\n",
       "    </tr>\n",
       "    <tr>\n",
       "      <th>16</th>\n",
       "      <td>Netherlands</td>\n",
       "      <td>945.33</td>\n",
       "      <td>3.11</td>\n",
       "      <td>55185.0</td>\n",
       "      <td>Europe</td>\n",
       "    </tr>\n",
       "    <tr>\n",
       "      <th>17</th>\n",
       "      <td>Turkey</td>\n",
       "      <td>909.89</td>\n",
       "      <td>7.05</td>\n",
       "      <td>11114.0</td>\n",
       "      <td>Asia</td>\n",
       "    </tr>\n",
       "    <tr>\n",
       "      <th>18</th>\n",
       "      <td>Saudi Arabia</td>\n",
       "      <td>748.00</td>\n",
       "      <td>-0.74</td>\n",
       "      <td>2265.0</td>\n",
       "      <td>Asia</td>\n",
       "    </tr>\n",
       "    <tr>\n",
       "      <th>19</th>\n",
       "      <td>Switzerland</td>\n",
       "      <td>741.69</td>\n",
       "      <td>1.07</td>\n",
       "      <td>86835.0</td>\n",
       "      <td>Europe</td>\n",
       "    </tr>\n",
       "    <tr>\n",
       "      <th>20</th>\n",
       "      <td>Argentina</td>\n",
       "      <td>625.92</td>\n",
       "      <td>2.86</td>\n",
       "      <td>14044.0</td>\n",
       "      <td>South America</td>\n",
       "    </tr>\n",
       "    <tr>\n",
       "      <th>21</th>\n",
       "      <td>Poland</td>\n",
       "      <td>614.19</td>\n",
       "      <td>4.55</td>\n",
       "      <td>1618.0</td>\n",
       "      <td>Europe</td>\n",
       "    </tr>\n",
       "    <tr>\n",
       "      <th>22</th>\n",
       "      <td>Taiwan Province of China</td>\n",
       "      <td>613.30</td>\n",
       "      <td>2.79</td>\n",
       "      <td>25977.0</td>\n",
       "      <td>Asia</td>\n",
       "    </tr>\n",
       "    <tr>\n",
       "      <th>23</th>\n",
       "      <td>Sweden</td>\n",
       "      <td>600.77</td>\n",
       "      <td>2.40</td>\n",
       "      <td>58345.0</td>\n",
       "      <td>Europe</td>\n",
       "    </tr>\n",
       "    <tr>\n",
       "      <th>24</th>\n",
       "      <td>Belgium</td>\n",
       "      <td>562.23</td>\n",
       "      <td>1.71</td>\n",
       "      <td>49272.0</td>\n",
       "      <td>Europe</td>\n",
       "    </tr>\n",
       "    <tr>\n",
       "      <th>25</th>\n",
       "      <td>Thailand</td>\n",
       "      <td>483.74</td>\n",
       "      <td>3.90</td>\n",
       "      <td>6992.0</td>\n",
       "      <td>Asia</td>\n",
       "    </tr>\n",
       "    <tr>\n",
       "      <th>26</th>\n",
       "      <td>Austria</td>\n",
       "      <td>477.67</td>\n",
       "      <td>2.90</td>\n",
       "      <td>53764.0</td>\n",
       "      <td>Europe</td>\n",
       "    </tr>\n",
       "    <tr>\n",
       "      <th>27</th>\n",
       "      <td>Norway</td>\n",
       "      <td>443.25</td>\n",
       "      <td>1.81</td>\n",
       "      <td>82711.0</td>\n",
       "      <td>Europe</td>\n",
       "    </tr>\n",
       "    <tr>\n",
       "      <th>28</th>\n",
       "      <td>Islamic Republic of Iran</td>\n",
       "      <td>418.88</td>\n",
       "      <td>4.28</td>\n",
       "      <td>5086.0</td>\n",
       "      <td>Asia</td>\n",
       "    </tr>\n",
       "    <tr>\n",
       "      <th>29</th>\n",
       "      <td>United Arab Emirates</td>\n",
       "      <td>411.83</td>\n",
       "      <td>0.53</td>\n",
       "      <td>39484.0</td>\n",
       "      <td>Asia</td>\n",
       "    </tr>\n",
       "    <tr>\n",
       "      <th>30</th>\n",
       "      <td>Nigeria</td>\n",
       "      <td>408.61</td>\n",
       "      <td>0.82</td>\n",
       "      <td>2108.0</td>\n",
       "      <td>Africa</td>\n",
       "    </tr>\n",
       "    <tr>\n",
       "      <th>31</th>\n",
       "      <td>Ireland</td>\n",
       "      <td>385.14</td>\n",
       "      <td>7.81</td>\n",
       "      <td>80641.0</td>\n",
       "      <td>Europe</td>\n",
       "    </tr>\n",
       "    <tr>\n",
       "      <th>32</th>\n",
       "      <td>Israel</td>\n",
       "      <td>373.75</td>\n",
       "      <td>3.32</td>\n",
       "      <td>42115.0</td>\n",
       "      <td>Asia</td>\n",
       "    </tr>\n",
       "    <tr>\n",
       "      <th>33</th>\n",
       "      <td>South Africa</td>\n",
       "      <td>370.89</td>\n",
       "      <td>1.32</td>\n",
       "      <td>6459.0</td>\n",
       "      <td>Africa</td>\n",
       "    </tr>\n",
       "    <tr>\n",
       "      <th>34</th>\n",
       "      <td>Denmark</td>\n",
       "      <td>369.76</td>\n",
       "      <td>2.11</td>\n",
       "      <td>6383.0</td>\n",
       "      <td>Europe</td>\n",
       "    </tr>\n",
       "    <tr>\n",
       "      <th>35</th>\n",
       "      <td>Malaysia</td>\n",
       "      <td>364.92</td>\n",
       "      <td>5.90</td>\n",
       "      <td>11237.0</td>\n",
       "      <td>Asia</td>\n",
       "    </tr>\n",
       "    <tr>\n",
       "      <th>36</th>\n",
       "      <td>Hong Kong SAR</td>\n",
       "      <td>364.78</td>\n",
       "      <td>3.82</td>\n",
       "      <td>48829.0</td>\n",
       "      <td>Asia</td>\n",
       "    </tr>\n",
       "    <tr>\n",
       "      <th>37</th>\n",
       "      <td>Singapore</td>\n",
       "      <td>349.66</td>\n",
       "      <td>3.62</td>\n",
       "      <td>61767.0</td>\n",
       "      <td>Asia</td>\n",
       "    </tr>\n",
       "    <tr>\n",
       "      <th>38</th>\n",
       "      <td>Philippines</td>\n",
       "      <td>332.45</td>\n",
       "      <td>6.67</td>\n",
       "      <td>3095.0</td>\n",
       "      <td>Asia</td>\n",
       "    </tr>\n",
       "    <tr>\n",
       "      <th>39</th>\n",
       "      <td>Colombia</td>\n",
       "      <td>327.98</td>\n",
       "      <td>1.77</td>\n",
       "      <td>6581.0</td>\n",
       "      <td>South America</td>\n",
       "    </tr>\n",
       "    <tr>\n",
       "      <th>40</th>\n",
       "      <td>Pakistan</td>\n",
       "      <td>324.73</td>\n",
       "      <td>5.28</td>\n",
       "      <td>1615.0</td>\n",
       "      <td>Asia</td>\n",
       "    </tr>\n",
       "    <tr>\n",
       "      <th>41</th>\n",
       "      <td>Finland</td>\n",
       "      <td>289.56</td>\n",
       "      <td>2.99</td>\n",
       "      <td>52422.0</td>\n",
       "      <td>Europe</td>\n",
       "    </tr>\n",
       "    <tr>\n",
       "      <th>42</th>\n",
       "      <td>Bangladesh</td>\n",
       "      <td>285.82</td>\n",
       "      <td>7.14</td>\n",
       "      <td>1734.0</td>\n",
       "      <td>Asia</td>\n",
       "    </tr>\n",
       "    <tr>\n",
       "      <th>43</th>\n",
       "      <td>Chile</td>\n",
       "      <td>280.27</td>\n",
       "      <td>1.47</td>\n",
       "      <td>15087.0</td>\n",
       "      <td>South America</td>\n",
       "    </tr>\n",
       "    <tr>\n",
       "      <th>44</th>\n",
       "      <td>Egypt</td>\n",
       "      <td>253.25</td>\n",
       "      <td>4.23</td>\n",
       "      <td>2611.0</td>\n",
       "      <td>Africa</td>\n",
       "    </tr>\n",
       "    <tr>\n",
       "      <th>45</th>\n",
       "      <td>Czech Republic</td>\n",
       "      <td>251.58</td>\n",
       "      <td>4.29</td>\n",
       "      <td>2375.0</td>\n",
       "      <td>Europe</td>\n",
       "    </tr>\n",
       "    <tr>\n",
       "      <th>46</th>\n",
       "      <td>Portugal</td>\n",
       "      <td>248.89</td>\n",
       "      <td>2.67</td>\n",
       "      <td>24237.0</td>\n",
       "      <td>Europe</td>\n",
       "    </tr>\n",
       "    <tr>\n",
       "      <th>47</th>\n",
       "      <td>Romania</td>\n",
       "      <td>245.59</td>\n",
       "      <td>7.00</td>\n",
       "      <td>12575.0</td>\n",
       "      <td>Europe</td>\n",
       "    </tr>\n",
       "    <tr>\n",
       "      <th>48</th>\n",
       "      <td>Vietnam</td>\n",
       "      <td>240.78</td>\n",
       "      <td>6.81</td>\n",
       "      <td>2546.0</td>\n",
       "      <td>Asia</td>\n",
       "    </tr>\n",
       "    <tr>\n",
       "      <th>49</th>\n",
       "      <td>Peru</td>\n",
       "      <td>231.57</td>\n",
       "      <td>2.51</td>\n",
       "      <td>7199.0</td>\n",
       "      <td>South America</td>\n",
       "    </tr>\n",
       "  </tbody>\n",
       "</table>\n",
       "</div>"
      ],
      "text/plain": [
       "                     ÜLKELER  MİLLİ GELİR  BÜYÜME  KİŞİ BAŞINA           KITA\n",
       "0              United States     20412.87    2.27      62152.0  North America\n",
       "1                      China     14092.51    6.86      10088.0           Asia\n",
       "2                      Japan      5167.05    1.71      40849.0           Asia\n",
       "3                    Germany      4211.64    2.51      50842.0         Europe\n",
       "4             United Kingdom      2936.29    1.79      44177.0         Europe\n",
       "5                     France      2925.10    1.85      44934.0         Europe\n",
       "6                      India      2848.23    6.74       2135.0           Asia\n",
       "7                      Italy      2181.97    1.47      35914.0         Europe\n",
       "8                     Brazil      2138.92    0.98      10224.0  South America\n",
       "9                     Canada      1798.51    3.00      48466.0  North America\n",
       "10                    Russia      1719.90    1.55      11947.0         Europe\n",
       "11                     Korea      1693.25    3.09      32775.0           Asia\n",
       "12                     Spain      1506.44    3.05      32559.0         Europe\n",
       "13                 Australia      1500.26    2.27      59655.0        Oceania\n",
       "14                    Mexico      1212.83    2.04       9723.0  North America\n",
       "15                 Indonesia      1074.97    5.07       4052.0           Asia\n",
       "16               Netherlands       945.33    3.11      55185.0         Europe\n",
       "17                    Turkey       909.89    7.05      11114.0           Asia\n",
       "18              Saudi Arabia       748.00   -0.74       2265.0           Asia\n",
       "19               Switzerland       741.69    1.07      86835.0         Europe\n",
       "20                 Argentina       625.92    2.86      14044.0  South America\n",
       "21                    Poland       614.19    4.55       1618.0         Europe\n",
       "22  Taiwan Province of China       613.30    2.79      25977.0           Asia\n",
       "23                    Sweden       600.77    2.40      58345.0         Europe\n",
       "24                   Belgium       562.23    1.71      49272.0         Europe\n",
       "25                  Thailand       483.74    3.90       6992.0           Asia\n",
       "26                   Austria       477.67    2.90      53764.0         Europe\n",
       "27                    Norway       443.25    1.81      82711.0         Europe\n",
       "28  Islamic Republic of Iran       418.88    4.28       5086.0           Asia\n",
       "29      United Arab Emirates       411.83    0.53      39484.0           Asia\n",
       "30                   Nigeria       408.61    0.82       2108.0         Africa\n",
       "31                   Ireland       385.14    7.81      80641.0         Europe\n",
       "32                    Israel       373.75    3.32      42115.0           Asia\n",
       "33              South Africa       370.89    1.32       6459.0         Africa\n",
       "34                   Denmark       369.76    2.11       6383.0         Europe\n",
       "35                  Malaysia       364.92    5.90      11237.0           Asia\n",
       "36             Hong Kong SAR       364.78    3.82      48829.0           Asia\n",
       "37                 Singapore       349.66    3.62      61767.0           Asia\n",
       "38               Philippines       332.45    6.67       3095.0           Asia\n",
       "39                  Colombia       327.98    1.77       6581.0  South America\n",
       "40                  Pakistan       324.73    5.28       1615.0           Asia\n",
       "41                   Finland       289.56    2.99      52422.0         Europe\n",
       "42                Bangladesh       285.82    7.14       1734.0           Asia\n",
       "43                     Chile       280.27    1.47      15087.0  South America\n",
       "44                     Egypt       253.25    4.23       2611.0         Africa\n",
       "45            Czech Republic       251.58    4.29       2375.0         Europe\n",
       "46                  Portugal       248.89    2.67      24237.0         Europe\n",
       "47                   Romania       245.59    7.00      12575.0         Europe\n",
       "48                   Vietnam       240.78    6.81       2546.0           Asia\n",
       "49                      Peru       231.57    2.51       7199.0  South America"
      ]
     },
     "execution_count": 2,
     "metadata": {},
     "output_type": "execute_result"
    }
   ],
   "source": [
    "e=pd.read_csv(\"50ülke.csv\")\n",
    "e.pop(\"2023\")\n",
    "e.pop(\"SIRALAMA\")\n",
    "e.pop(\"SIRALAMA.2\")\n",
    "e"
   ]
  },
  {
   "cell_type": "code",
   "execution_count": 3,
   "metadata": {},
   "outputs": [
    {
     "data": {
      "text/plain": [
       "<matplotlib.axes._subplots.AxesSubplot at 0x2659198bf28>"
      ]
     },
     "execution_count": 3,
     "metadata": {},
     "output_type": "execute_result"
    },
    {
     "data": {
      "image/png": "[encoded data removed]",
      "text/plain": [
       "<Figure size 432x288 with 1 Axes>"
      ]
     },
     "metadata": {
      "needs_background": "light"
     },
     "output_type": "display_data"
    }
   ],
   "source": [
    "sns.barplot(x=\"KITA\",y=\"KİŞİ BAŞINA\",data=e,palette=\"BuGn_d\")"
   ]
  },
  {
   "cell_type": "code",
   "execution_count": 8,
   "metadata": {},
   "outputs": [
    {
     "data": {
      "text/plain": [
       "<matplotlib.axes._subplots.AxesSubplot at 0x265930f9518>"
      ]
     },
     "execution_count": 8,
     "metadata": {},
     "output_type": "execute_result"
    },
    {
     "data": {
      "image/png": "[encoded data removed]",
      "text/plain": [
       "<Figure size 432x288 with 1 Axes>"
      ]
     },
     "metadata": {
      "needs_background": "light"
     },
     "output_type": "display_data"
    }
   ],
   "source": [
    "sns.barplot(x=\"KITA\",y=\"KİŞİ BAŞINA\",data=e,palette=\"Set1\")"
   ]
  },
  {
   "cell_type": "markdown",
   "metadata": {},
   "source": [
    "# countplot()"
   ]
  },
  {
   "cell_type": "code",
   "execution_count": 10,
   "metadata": {},
   "outputs": [
    {
     "data": {
      "text/plain": [
       "<matplotlib.axes._subplots.AxesSubplot at 0x265931e6748>"
      ]
     },
     "execution_count": 10,
     "metadata": {},
     "output_type": "execute_result"
    },
    {
     "data": {
      "image/png": "[encoded data removed]",
      "text/plain": [
       "<Figure size 432x288 with 1 Axes>"
      ]
     },
     "metadata": {
      "needs_background": "light"
     },
     "output_type": "display_data"
    }
   ],
   "source": [
    "sns.countplot(x=\"KITA\",data=e) #verisayma"
   ]
  },
  {
   "cell_type": "markdown",
   "metadata": {},
   "source": [
    "# stripplot()"
   ]
  },
  {
   "cell_type": "code",
   "execution_count": 11,
   "metadata": {},
   "outputs": [
    {
     "data": {
      "text/plain": [
       "<matplotlib.axes._subplots.AxesSubplot at 0x2659323de48>"
      ]
     },
     "execution_count": 11,
     "metadata": {},
     "output_type": "execute_result"
    },
    {
     "data": {
      "image/png": "[encoded data removed]",
      "text/plain": [
       "<Figure size 432x288 with 1 Axes>"
      ]
     },
     "metadata": {
      "needs_background": "light"
     },
     "output_type": "display_data"
    }
   ],
   "source": [
    "sns.stripplot(x=\"KITA\",y=\"BÜYÜME\",data=e)"
   ]
  },
  {
   "cell_type": "code",
   "execution_count": 12,
   "metadata": {},
   "outputs": [
    {
     "data": {
      "text/plain": [
       "<matplotlib.axes._subplots.AxesSubplot at 0x2659324dc88>"
      ]
     },
     "execution_count": 12,
     "metadata": {},
     "output_type": "execute_result"
    },
    {
     "data": {
      "image/png": "[encoded data removed]",
      "text/plain": [
       "<Figure size 432x288 with 1 Axes>"
      ]
     },
     "metadata": {
      "needs_background": "light"
     },
     "output_type": "display_data"
    }
   ],
   "source": [
    "sns.stripplot(x=\"KITA\",y=\"BÜYÜME\",data=e,jitter=True,color=\"red\")"
   ]
  },
  {
   "cell_type": "markdown",
   "metadata": {},
   "source": [
    "# swarmplot()"
   ]
  },
  {
   "cell_type": "code",
   "execution_count": 16,
   "metadata": {},
   "outputs": [
    {
     "data": {
      "text/plain": [
       "<matplotlib.axes._subplots.AxesSubplot at 0x26593081c50>"
      ]
     },
     "execution_count": 16,
     "metadata": {},
     "output_type": "execute_result"
    },
    {
     "data": {
      "image/png": "[encoded data removed]",
      "text/plain": [
       "<Figure size 432x288 with 1 Axes>"
      ]
     },
     "metadata": {
      "needs_background": "light"
     },
     "output_type": "display_data"
    }
   ],
   "source": [
    "sns.violinplot(x=\"KITA\",y=\"BÜYÜME\",data=e)\n",
    "sns.swarmplot(x=\"KITA\",y=\"BÜYÜME\",data=e,color=\"red\")"
   ]
  },
  {
   "cell_type": "code",
   "execution_count": null,
   "metadata": {},
   "outputs": [],
   "source": []
  }
 ],
 "metadata": {
  "kernelspec": {
   "display_name": "Python 3",
   "language": "python",
   "name": "python3"
  },
  "language_info": {
   "codemirror_mode": {
    "name": "ipython",
    "version": 3
   },
   "file_extension": ".py",
   "mimetype": "text/x-python",
   "name": "python",
   "nbconvert_exporter": "python",
   "pygments_lexer": "ipython3",
   "version": "3.7.3"
  }
 },
 "nbformat": 4,
 "nbformat_minor": 2
}
